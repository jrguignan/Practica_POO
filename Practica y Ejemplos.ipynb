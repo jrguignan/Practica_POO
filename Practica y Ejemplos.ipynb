{
 "cells": [
  {
   "cell_type": "markdown",
   "metadata": {},
   "source": [
    "# Ejercicio 1\n",
    "\n",
    "<img src=\"images\\ejercicio1.png\">"
   ]
  },
  {
   "cell_type": "code",
   "execution_count": 10,
   "metadata": {},
   "outputs": [
    {
     "name": "stdout",
     "output_type": "stream",
     "text": [
      "el estudiante Pedro está estudiando\n"
     ]
    }
   ],
   "source": [
    "#Se crea la clase Estudiante\n",
    "class Estudiante:\n",
    "    #Se llama al metod constructor y se le pasa nombre, edad y grado\n",
    "    def __init__(self,nombre,edad,grado):\n",
    "        self.Nombre=nombre\n",
    "        self.Edad=edad\n",
    "        self.Grado=grado\n",
    "\n",
    "    #Se crea un metodo llamado estudiar\n",
    "    def estudiar(self):\n",
    "        return f'El estudiante {self.Nombre} está estudiando'  \n",
    "    \n",
    "#Se pasan los atributos del objeto por teclado\n",
    "nombre = input(\"Dígame su nombre:\")\n",
    "edad = input(\"Dígame su edad:\")\n",
    "grado = input(\"Dígame su grado:\")\n",
    "\n",
    "#Se instancia el objeto\n",
    "estudiante1 = Estudiante(nombre,edad,grado)\n",
    "\n",
    "#Se pide el metodo por teclado\n",
    "variable = input(\"Introduzca un métodp:\").lower()\n",
    "\n",
    "#Se imprime la respuesta del metodo estudiar\n",
    "if variable == \"estudiar\":\n",
    "    print(estudiante1.estudiar())\n",
    "else:\n",
    "    print(\"Introduzca un método adecuado\")   \n",
    "     "
   ]
  },
  {
   "cell_type": "markdown",
   "metadata": {},
   "source": [
    "# Ejercicio 2\n",
    "\n",
    "<img src=\"images\\ejercicio2.png\">\n",
    "<img src=\"images\\ejercicio2a.png\">"
   ]
  },
  {
   "cell_type": "code",
   "execution_count": 13,
   "metadata": {},
   "outputs": [],
   "source": [
    "\n",
    "\n"
   ]
  },
  {
   "cell_type": "code",
   "execution_count": 12,
   "metadata": {},
   "outputs": [],
   "source": [
    "\n"
   ]
  },
  {
   "cell_type": "code",
   "execution_count": null,
   "metadata": {},
   "outputs": [],
   "source": []
  },
  {
   "cell_type": "markdown",
   "metadata": {},
   "source": [
    "# Ejercicio 3\n",
    "\n",
    "<img src=\"images\\ejercicio3.png\">"
   ]
  },
  {
   "cell_type": "code",
   "execution_count": null,
   "metadata": {},
   "outputs": [],
   "source": []
  },
  {
   "cell_type": "markdown",
   "metadata": {},
   "source": [
    "# Ejercicio 4\n",
    "\n",
    "<img src=\"images\\ejercicio4.png\">"
   ]
  }
 ],
 "metadata": {
  "kernelspec": {
   "display_name": "Python 3",
   "language": "python",
   "name": "python3"
  },
  "language_info": {
   "codemirror_mode": {
    "name": "ipython",
    "version": 3
   },
   "file_extension": ".py",
   "mimetype": "text/x-python",
   "name": "python",
   "nbconvert_exporter": "python",
   "pygments_lexer": "ipython3",
   "version": "3.11.5"
  }
 },
 "nbformat": 4,
 "nbformat_minor": 2
}
