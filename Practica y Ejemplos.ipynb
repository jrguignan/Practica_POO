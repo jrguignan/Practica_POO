{
 "cells": [
  {
   "cell_type": "markdown",
   "metadata": {},
   "source": [
    "# Ejercicio 1\n",
    "\n",
    "<img src=\"images\\ejercicio1.png\">"
   ]
  },
  {
   "cell_type": "code",
   "execution_count": 10,
   "metadata": {},
   "outputs": [
    {
     "name": "stdout",
     "output_type": "stream",
     "text": [
      "el estudiante Pedro está estudiando\n"
     ]
    }
   ],
   "source": [
    "#Ejercicio 1\n",
    "#Se crea la clase Estudiante\n",
    "class Estudiante:\n",
    "    #Se llama al metod constructor y se le pasa nombre, edad y grado\n",
    "    def __init__(self,nombre,edad,grado):\n",
    "        self.Nombre=nombre\n",
    "        self.Edad=edad\n",
    "        self.Grado=grado\n",
    "\n",
    "    #Se crea un metodo llamado estudiar\n",
    "    def estudiar(self):\n",
    "        return f'El estudiante {self.Nombre} está estudiando'  \n",
    "    \n",
    "#Se pasan los atributos del objeto por teclado\n",
    "nombre = input(\"Dígame su nombre:\")\n",
    "edad = input(\"Dígame su edad:\")\n",
    "grado = input(\"Dígame su grado:\")\n",
    "\n",
    "#Se instancia el objeto\n",
    "estudiante1 = Estudiante(nombre,edad,grado)\n",
    "\n",
    "#Se pide el metodo por teclado\n",
    "variable = input(\"Introduzca un métodp:\").lower()\n",
    "\n",
    "#Se imprime la respuesta del metodo estudiar\n",
    "if variable == \"estudiar\":\n",
    "    print(estudiante1.estudiar())\n",
    "else:\n",
    "    print(\"Introduzca un método adecuado\")   \n",
    "     "
   ]
  },
  {
   "cell_type": "markdown",
   "metadata": {},
   "source": [
    "# Ejercicio 2\n",
    "\n",
    "<img src=\"images\\ejercicio2.png\">\n",
    "<img src=\"images\\ejercicio2a.png\">"
   ]
  },
  {
   "cell_type": "code",
   "execution_count": 10,
   "metadata": {},
   "outputs": [
    {
     "name": "stdout",
     "output_type": "stream",
     "text": [
      "mi nombre es: Fausto\n",
      "mi edad es: 14\n"
     ]
    },
    {
     "data": {
      "text/plain": [
       "'Mi grado es: 10mo'"
      ]
     },
     "execution_count": 10,
     "metadata": {},
     "output_type": "execute_result"
    }
   ],
   "source": [
    "#Ejercicio 2\n",
    "\n",
    "class Persona():\n",
    "    def __init__(self, nombre, edad):\n",
    "        self.nombre=nombre\n",
    "        self.edad=edad\n",
    "\n",
    "    def mostrar_datos(self):\n",
    "        print(f\"mi nombre es: {self.nombre}\")\n",
    "        print(f\"mi edad es: {self.edad}\")\n",
    "           \n",
    "\n",
    "class Estudiante(Persona):\n",
    "    def __init__(self,nombre,edad,grado):\n",
    "        #al usar super() no se usa self\n",
    "        super().__init__(nombre, edad)\n",
    "        self.grado=grado\n",
    "\n",
    "    def mostrar_grado(self):\n",
    "        return f\"Mi grado es: {self.grado}\"   \n",
    "\n",
    "estudiante1=Estudiante(\"Fausto\",14,\"10mo\") \n",
    "estudiante1.mostrar_datos() \n",
    "estudiante1.mostrar_grado() \n",
    "        \n",
    "                \n"
   ]
  },
  {
   "cell_type": "code",
   "execution_count": 29,
   "metadata": {},
   "outputs": [
    {
     "name": "stdout",
     "output_type": "stream",
     "text": [
      "Está comiendo\n",
      "Está amamantando\n",
      "Está volando\n",
      "[<class '__main__.Murcielago'>, <class '__main__.Mamifero'>, <class '__main__.Ave'>, <class '__main__.Animal'>, <class 'object'>]\n"
     ]
    }
   ],
   "source": [
    "#Ejercicio 2a\n",
    "\n",
    "class Animal():\n",
    "      def comer(self):\n",
    "          return \"Está comiendo\"\n",
    "    \n",
    "class Mamifero(Animal):\n",
    "      def amamantar(self):\n",
    "          return \"Está amamantando\"  \n",
    "    \n",
    "class Ave(Animal):\n",
    "      def volar(self):\n",
    "          return \"Está volando\"\n",
    "    \n",
    "class Murcielago(Mamifero,Ave):\n",
    "      pass\n",
    "      \n",
    "murcielago=Murcielago()\n",
    "\n",
    "print(murcielago.comer())\n",
    "print(murcielago.amamantar())\n",
    "print(murcielago.volar())\n",
    "\n",
    "print(Murcielago.mro())\n"
   ]
  },
  {
   "cell_type": "markdown",
   "metadata": {},
   "source": [
    "# Ejercicio 3\n",
    "\n",
    "<img src=\"images\\ejercicio3.png\">"
   ]
  },
  {
   "cell_type": "code",
   "execution_count": 18,
   "metadata": {},
   "outputs": [
    {
     "ename": "NameError",
     "evalue": "name '_Usuario__contraseña' is not defined",
     "output_type": "error",
     "traceback": [
      "\u001b[1;31m---------------------------------------------------------------------------\u001b[0m",
      "\u001b[1;31mNameError\u001b[0m                                 Traceback (most recent call last)",
      "Cell \u001b[1;32mIn[18], line 1\u001b[0m\n\u001b[1;32m----> 1\u001b[0m \u001b[38;5;28;43;01mclass\u001b[39;49;00m\u001b[43m \u001b[49m\u001b[38;5;21;43;01mUsuario\u001b[39;49;00m\u001b[43m(\u001b[49m\u001b[43m)\u001b[49m\u001b[43m:\u001b[49m\n\u001b[0;32m      2\u001b[0m \u001b[43m    \u001b[49m\u001b[38;5;28;43;01mdef\u001b[39;49;00m\u001b[43m \u001b[49m\u001b[38;5;21;43m__init__\u001b[39;49m\u001b[43m(\u001b[49m\u001b[38;5;28;43mself\u001b[39;49m\u001b[43m)\u001b[49m\u001b[43m:\u001b[49m\n\u001b[0;32m      3\u001b[0m \u001b[43m      \u001b[49m\u001b[38;5;28;43mself\u001b[39;49m\u001b[38;5;241;43m.\u001b[39;49m\u001b[43mnombre\u001b[49m\u001b[43m \u001b[49m\u001b[38;5;241;43m=\u001b[39;49m\u001b[43m \u001b[49m\u001b[38;5;124;43m\"\u001b[39;49m\u001b[38;5;124;43mMatias\u001b[39;49m\u001b[38;5;124;43m\"\u001b[39;49m\n",
      "Cell \u001b[1;32mIn[18], line 14\u001b[0m, in \u001b[0;36mUsuario\u001b[1;34m()\u001b[0m\n\u001b[0;32m     12\u001b[0m    \u001b[38;5;28;01mreturn\u001b[39;00m \u001b[38;5;28mself\u001b[39m\u001b[38;5;241m.\u001b[39m__contraseña  \n\u001b[0;32m     13\u001b[0m \u001b[38;5;66;03m#Setter\u001b[39;00m\n\u001b[1;32m---> 14\u001b[0m \u001b[38;5;129m@__contraseña\u001b[39m\u001b[38;5;241m.\u001b[39msetter\n\u001b[0;32m     15\u001b[0m \u001b[38;5;28;01mdef\u001b[39;00m \u001b[38;5;21m__contraseña\u001b[39m(\u001b[38;5;28mself\u001b[39m,nueva_contraseña):\n\u001b[0;32m     16\u001b[0m     \u001b[38;5;28mself\u001b[39m\u001b[38;5;241m.\u001b[39m__contraseña\u001b[38;5;241m=\u001b[39mnueva_contraseña\n",
      "\u001b[1;31mNameError\u001b[0m: name '_Usuario__contraseña' is not defined"
     ]
    }
   ],
   "source": [
    "class Usuario():\n",
    "    def __init__(self):\n",
    "      self.nombre = \"Matias\"\n",
    "      #Al colocar __ no me deja acceder al atributo de manera normal.\n",
    "      #es como si no exitiese, se vuelve un atributo privado\n",
    "      self.__contraseña = 1234\n",
    "    \n",
    "    #decorador para mostrar el atributo hacia afuera de la clase\n",
    "    #como si fuese un atributo  \n",
    "    @property \n",
    "    def mostrar(self):\n",
    "       return self.__contraseña  \n",
    "    #Setter\n",
    "    @__contraseña.setter\n",
    "    def __contraseña(self,nueva_contraseña):\n",
    "        self.__contraseña=nueva_contraseña  \n",
    "\n",
    "usuario=Usuario() \n",
    "usuario.mostrar    \n",
    "#>1234\n",
    "\n",
    "usuario.__contraseña(4321)\n",
    "usuario.mostrar\n",
    "\n"
   ]
  },
  {
   "cell_type": "code",
   "execution_count": 19,
   "metadata": {},
   "outputs": [
    {
     "ename": "NameError",
     "evalue": "name 'contraseña' is not defined",
     "output_type": "error",
     "traceback": [
      "\u001b[1;31m---------------------------------------------------------------------------\u001b[0m",
      "\u001b[1;31mNameError\u001b[0m                                 Traceback (most recent call last)",
      "Cell \u001b[1;32mIn[19], line 1\u001b[0m\n\u001b[1;32m----> 1\u001b[0m \u001b[38;5;28;43;01mclass\u001b[39;49;00m\u001b[43m \u001b[49m\u001b[38;5;21;43;01mUsuario\u001b[39;49;00m\u001b[43m(\u001b[49m\u001b[43m)\u001b[49m\u001b[43m:\u001b[49m\n\u001b[0;32m      2\u001b[0m \u001b[43m    \u001b[49m\u001b[38;5;28;43;01mdef\u001b[39;49;00m\u001b[43m \u001b[49m\u001b[38;5;21;43m__init__\u001b[39;49m\u001b[43m(\u001b[49m\u001b[38;5;28;43mself\u001b[39;49m\u001b[43m,\u001b[49m\u001b[43mnombre\u001b[49m\u001b[43m,\u001b[49m\u001b[43mcontraseña\u001b[49m\u001b[43m)\u001b[49m\u001b[43m:\u001b[49m\n\u001b[0;32m      3\u001b[0m \u001b[43m      \u001b[49m\u001b[38;5;28;43mself\u001b[39;49m\u001b[38;5;241;43m.\u001b[39;49m\u001b[43mnombre\u001b[49m\u001b[43m \u001b[49m\u001b[38;5;241;43m=\u001b[39;49m\u001b[43m \u001b[49m\u001b[43mnombre\u001b[49m\n",
      "Cell \u001b[1;32mIn[19], line 14\u001b[0m, in \u001b[0;36mUsuario\u001b[1;34m()\u001b[0m\n\u001b[0;32m      6\u001b[0m   \u001b[38;5;28mself\u001b[39m\u001b[38;5;241m.\u001b[39m__contraseña \u001b[38;5;241m=\u001b[39m contraseña\n\u001b[0;32m      8\u001b[0m \u001b[38;5;66;03m#decorador para mostrar el atributo hacia afuera de la clase\u001b[39;00m\n\u001b[0;32m      9\u001b[0m \u001b[38;5;66;03m#como si fuese un atributo  \u001b[39;00m\n\u001b[0;32m     10\u001b[0m \u001b[38;5;66;03m# @property \u001b[39;00m\n\u001b[0;32m     11\u001b[0m \u001b[38;5;66;03m# def mostrar(self):\u001b[39;00m\n\u001b[0;32m     12\u001b[0m \u001b[38;5;66;03m#    return self.__contraseña  \u001b[39;00m\n\u001b[0;32m     13\u001b[0m \u001b[38;5;66;03m#Setter\u001b[39;00m\n\u001b[1;32m---> 14\u001b[0m \u001b[38;5;129m@contraseña\u001b[39m\u001b[38;5;241m.\u001b[39msetter\n\u001b[0;32m     15\u001b[0m \u001b[38;5;28;01mdef\u001b[39;00m \u001b[38;5;21mcontraseña\u001b[39m(\u001b[38;5;28mself\u001b[39m,nueva_contraseña):\n\u001b[0;32m     16\u001b[0m     \u001b[38;5;28mself\u001b[39m\u001b[38;5;241m.\u001b[39m__contraseña\u001b[38;5;241m=\u001b[39mnueva_contraseña\n",
      "\u001b[1;31mNameError\u001b[0m: name 'contraseña' is not defined"
     ]
    }
   ],
   "source": [
    "class Usuario():\n",
    "    def __init__(self, nombre, contraseña):\n",
    "      self.nombre = nombre\n",
    "      self.__contraseña = contraseña\n",
    "      #Al colocar __ no me deja acceder al atributo de manera normal.\n",
    "      #es como si no exitiese, se vuelve un atributo privad\n",
    "    \n",
    "    #Setter\n",
    "    @contraseña.setter\n",
    "    def contraseña(self, nueva_contraseña):\n",
    "        self._contraseña=nueva_contraseña  \n",
    "\n",
    "usuario=Usuario(\"juan\",1234) \n",
    "usuario.mostrar    \n"
   ]
  }
 ],
 "metadata": {
  "kernelspec": {
   "display_name": "Python 3",
   "language": "python",
   "name": "python3"
  },
  "language_info": {
   "codemirror_mode": {
    "name": "ipython",
    "version": 3
   },
   "file_extension": ".py",
   "mimetype": "text/x-python",
   "name": "python",
   "nbconvert_exporter": "python",
   "pygments_lexer": "ipython3",
   "version": "3.11.5"
  }
 },
 "nbformat": 4,
 "nbformat_minor": 2
}
