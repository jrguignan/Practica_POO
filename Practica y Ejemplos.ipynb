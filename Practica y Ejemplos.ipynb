{
 "cells": [
  {
   "cell_type": "markdown",
   "metadata": {},
   "source": [
    "# Ejercicio 1\n",
    "\n",
    "<img src=\"images\\ejercicio1.png\">"
   ]
  },
  {
   "cell_type": "code",
   "execution_count": 10,
   "metadata": {},
   "outputs": [
    {
     "name": "stdout",
     "output_type": "stream",
     "text": [
      "el estudiante Pedro está estudiando\n"
     ]
    }
   ],
   "source": [
    "#Se crea la clase Estudiante\n",
    "class Estudiante:\n",
    "    #Se llama al metod constructor y se le pasa nombre, edad y grado\n",
    "    def __init__(self,nombre,edad,grado):\n",
    "        self.Nombre=nombre\n",
    "        self.Edad=edad\n",
    "        self.Grado=grado\n",
    "\n",
    "    #Se crea un metodo llamado estudiar\n",
    "    def estudiar(self):\n",
    "        return f'El estudiante {self.Nombre} está estudiando'  \n",
    "    \n",
    "#Se pasan los atributos del objeto por teclado\n",
    "nombre = input(\"Dígame su nombre:\")\n",
    "edad = input(\"Dígame su edad:\")\n",
    "grado = input(\"Dígame su grado:\")\n",
    "\n",
    "#Se instancia el objeto\n",
    "estudiante1 = Estudiante(nombre,edad,grado)\n",
    "\n",
    "#Se pide el metodo por teclado\n",
    "variable = input(\"Introduzca un métodp:\").lower()\n",
    "\n",
    "#Se imprime la respuesta del metodo estudiar\n",
    "if variable == \"estudiar\":\n",
    "    print(estudiante1.estudiar())\n",
    "else:\n",
    "    print(\"Introduzca un método adecuado\")   \n",
    "     "
   ]
  },
  {
   "cell_type": "markdown",
   "metadata": {},
   "source": [
    "# Ejercicio 2\n",
    "\n",
    "<img src=\"images\\ejercicio2.png\">\n",
    "<img src=\"images\\ejercicio2a.png\">"
   ]
  },
  {
   "cell_type": "code",
   "execution_count": 45,
   "metadata": {},
   "outputs": [
    {
     "name": "stdout",
     "output_type": "stream",
     "text": [
      "Mi habilidad es: Pintar, clase padre\n",
      "Mi habilidad es: Pintar, clase hija\n"
     ]
    }
   ],
   "source": [
    "#Clase padre 1\n",
    "class Persona:\n",
    "    def __init__(self, nombre,edad,nacionalidad):\n",
    "        self.nombre = nombre\n",
    "        self.edad = edad\n",
    "        self.nacionalidad = nacionalidad\n",
    "\n",
    "    def hablar(self):\n",
    "        return \"La persona puede hablar\"    \n",
    "#Clase padre 2   \n",
    "class Artista():\n",
    "    def __init__(self, habilidad):\n",
    "        self.habilidad = habilidad\n",
    "\n",
    "    def mostrar_habilidad(self):\n",
    "        return f\"Mi habilidad es: {self.habilidad}, clase padre\"\n",
    "    \n",
    "#Clase hija     \n",
    "class PersonaArtista(Persona,Artista):\n",
    "    def __init__(self,nombre,edad,nacionalidad,habilidad,tipoartista):\n",
    "       #no se puede usar super porque hay 2 clases padre\n",
    "       Persona.__init__(self,nombre,edad,nacionalidad)    \n",
    "       Artista.__init__(self,habilidad)\n",
    "       self.tipoartista=tipoartista\n",
    "\n",
    "    def hablar(self):\n",
    "        return \"La persona puede hablar, método reescrito\"\n",
    "    \n",
    "    def mostrar_habilidad(self):\n",
    "        return f\"Mi habilidad es: {self.habilidad}, clase hija\"\n",
    "    \n",
    "    #super permite ir sobre el metodo mostrar_padre\n",
    "    def presentarse_padre(self):\n",
    "        return super().mostrar_habilidad()\n",
    "    \n",
    "    #self muestra el metodo modificado de la clase hija\n",
    "    def presentarse_hija(self):\n",
    "        return self.mostrar_habilidad()\n",
    " \n",
    "persona = PersonaArtista(\"Juan\",25,\"Boliviana\",\"Pintar\",\"Callejero\")   \n",
    "\n",
    "print(persona.presentarse_padre())\n",
    "#>Mi habilidad es: Pintar, clase padre\n",
    "\n",
    "print(persona.presentarse_hija())\n",
    "#>Mi habilidad es: Pintar, clase hija"
   ]
  },
  {
   "cell_type": "code",
   "execution_count": 5,
   "metadata": {},
   "outputs": [
    {
     "name": "stdout",
     "output_type": "stream",
     "text": [
      "Habla desde A\n",
      "[<class '__main__.E'>, <class '__main__.C'>, <class '__main__.A'>, <class '__main__.D'>, <class '__main__.B'>, <class 'object'>]\n"
     ]
    }
   ],
   "source": [
    "#Ejemplo MRO 1\n",
    "# Jugando con este ejemplo se puede ver como python \n",
    "#gestiona la herencia entre varios niveles de clses\n",
    "class A():\n",
    "    def hablar(self):\n",
    "        return \"Habla desde A\"\n",
    "    \n",
    "class B():\n",
    "    def hablar(self):\n",
    "        return \"Habla desde B\"   \n",
    "\n",
    "class C(A):\n",
    "    pass\n",
    "    # def hablar(self):\n",
    "    #     return \"Habla desde C\"     \n",
    "    \n",
    "class D(B):\n",
    "    def hablar(self):\n",
    "        return \"Habla desde D\"\n",
    "\n",
    "class E(C,D):\n",
    "    pass\n",
    "    # def hablar(self):\n",
    "    #     return \"Habla desde E\"    \n",
    "\n",
    "objeto = E()\n",
    "print(objeto.hablar())  \n",
    "#>'Habla desde A'\n",
    "\n",
    "print(E.mro())  \n",
    "#>[<class '__main__.E'>, <class '__main__.C'>, <class '__main__.A'>, <class '__main__.D'>, <class '__main__.B'>, <class 'object'>]    "
   ]
  },
  {
   "cell_type": "code",
   "execution_count": 6,
   "metadata": {},
   "outputs": [
    {
     "name": "stdout",
     "output_type": "stream",
     "text": [
      "Habla desde A\n",
      "[<class '__main__.E'>, <class '__main__.D'>, <class '__main__.C'>, <class '__main__.A'>, <class '__main__.B'>, <class 'object'>]\n"
     ]
    }
   ],
   "source": [
    "#Ejemplo MRO 2\n",
    "class A():\n",
    "    def hablar(self):\n",
    "        return \"Habla desde A\"\n",
    "    \n",
    "class B():\n",
    "    def hablar(self):\n",
    "        return \"Habla desde B\"   \n",
    "\n",
    "class C(A,B):\n",
    "    pass\n",
    "    # def hablar(self):\n",
    "    #     return \"Habla desde C\"     \n",
    "    \n",
    "class D(B):\n",
    "    pass\n",
    "    # def hablar(self):\n",
    "    #     return \"Habla desde D\"\n",
    "\n",
    "class E(D,C):\n",
    "    pass\n",
    "    # def hablar(self):\n",
    "    #     return \"Habla desde E\"    \n",
    "\n",
    "objeto = E()\n",
    "print(objeto.hablar())  \n",
    "#>'Habla desde A'\n",
    "\n",
    "print(E.mro())  "
   ]
  },
  {
   "cell_type": "markdown",
   "metadata": {},
   "source": [
    "# Ejercicio 3\n",
    "\n",
    "<img src=\"images\\ejercicio3.png\">"
   ]
  },
  {
   "cell_type": "code",
   "execution_count": null,
   "metadata": {},
   "outputs": [],
   "source": []
  },
  {
   "cell_type": "markdown",
   "metadata": {},
   "source": [
    "# Ejercicio 4\n",
    "\n",
    "<img src=\"images\\ejercicio4.png\">"
   ]
  }
 ],
 "metadata": {
  "kernelspec": {
   "display_name": "Python 3",
   "language": "python",
   "name": "python3"
  },
  "language_info": {
   "codemirror_mode": {
    "name": "ipython",
    "version": 3
   },
   "file_extension": ".py",
   "mimetype": "text/x-python",
   "name": "python",
   "nbconvert_exporter": "python",
   "pygments_lexer": "ipython3",
   "version": "3.11.5"
  }
 },
 "nbformat": 4,
 "nbformat_minor": 2
}
