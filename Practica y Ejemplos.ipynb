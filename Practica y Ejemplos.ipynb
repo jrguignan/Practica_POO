{
 "cells": [
  {
   "cell_type": "markdown",
   "metadata": {},
   "source": [
    "# Ejercicio 1\n",
    "\n",
    "<img src=\"images\\ejercicio1.png\">"
   ]
  },
  {
   "cell_type": "code",
   "execution_count": 10,
   "metadata": {},
   "outputs": [
    {
     "name": "stdout",
     "output_type": "stream",
     "text": [
      "el estudiante Pedro está estudiando\n"
     ]
    }
   ],
   "source": [
    "#Ejercicio 1\n",
    "#Se crea la clase Estudiante\n",
    "class Estudiante:\n",
    "    #Se llama al metod constructor y se le pasa nombre, edad y grado\n",
    "    def __init__(self,nombre,edad,grado):\n",
    "        self.Nombre=nombre\n",
    "        self.Edad=edad\n",
    "        self.Grado=grado\n",
    "\n",
    "    #Se crea un metodo llamado estudiar\n",
    "    def estudiar(self):\n",
    "        return f'El estudiante {self.Nombre} está estudiando'  \n",
    "    \n",
    "#Se pasan los atributos del objeto por teclado\n",
    "nombre = input(\"Dígame su nombre:\")\n",
    "edad = input(\"Dígame su edad:\")\n",
    "grado = input(\"Dígame su grado:\")\n",
    "\n",
    "#Se instancia el objeto\n",
    "estudiante1 = Estudiante(nombre,edad,grado)\n",
    "\n",
    "#Se pide el metodo por teclado\n",
    "variable = input(\"Introduzca un métodp:\").lower()\n",
    "\n",
    "#Se imprime la respuesta del metodo estudiar\n",
    "if variable == \"estudiar\":\n",
    "    print(estudiante1.estudiar())\n",
    "else:\n",
    "    print(\"Introduzca un método adecuado\")   \n",
    "     "
   ]
  },
  {
   "cell_type": "markdown",
   "metadata": {},
   "source": [
    "# Ejercicio 2\n",
    "\n",
    "<img src=\"images\\ejercicio2.png\">\n",
    "<img src=\"images\\ejercicio2a.png\">"
   ]
  },
  {
   "cell_type": "code",
   "execution_count": 10,
   "metadata": {},
   "outputs": [
    {
     "name": "stdout",
     "output_type": "stream",
     "text": [
      "mi nombre es: Fausto\n",
      "mi edad es: 14\n"
     ]
    },
    {
     "data": {
      "text/plain": [
       "'Mi grado es: 10mo'"
      ]
     },
     "execution_count": 10,
     "metadata": {},
     "output_type": "execute_result"
    }
   ],
   "source": [
    "#Ejercicio 2\n",
    "\n",
    "class Persona():\n",
    "    def __init__(self, nombre, edad):\n",
    "        self.nombre=nombre\n",
    "        self.edad=edad\n",
    "\n",
    "    def mostrar_datos(self):\n",
    "        print(f\"mi nombre es: {self.nombre}\")\n",
    "        print(f\"mi edad es: {self.edad}\")\n",
    "           \n",
    "\n",
    "class Estudiante(Persona):\n",
    "    def __init__(self,nombre,edad,grado):\n",
    "        #al usar super() no se usa self\n",
    "        super().__init__(nombre, edad)\n",
    "        self.grado=grado\n",
    "\n",
    "    def mostrar_grado(self):\n",
    "        return f\"Mi grado es: {self.grado}\"   \n",
    "\n",
    "estudiante1=Estudiante(\"Fausto\",14,\"10mo\") \n",
    "estudiante1.mostrar_datos() \n",
    "estudiante1.mostrar_grado() \n",
    "        \n",
    "                \n"
   ]
  },
  {
   "cell_type": "code",
   "execution_count": 29,
   "metadata": {},
   "outputs": [
    {
     "name": "stdout",
     "output_type": "stream",
     "text": [
      "Está comiendo\n",
      "Está amamantando\n",
      "Está volando\n",
      "[<class '__main__.Murcielago'>, <class '__main__.Mamifero'>, <class '__main__.Ave'>, <class '__main__.Animal'>, <class 'object'>]\n"
     ]
    }
   ],
   "source": [
    "#Ejercicio 2a\n",
    "\n",
    "class Animal():\n",
    "      def comer(self):\n",
    "          return \"Está comiendo\"\n",
    "    \n",
    "class Mamifero(Animal):\n",
    "      def amamantar(self):\n",
    "          return \"Está amamantando\"  \n",
    "    \n",
    "class Ave(Animal):\n",
    "      def volar(self):\n",
    "          return \"Está volando\"\n",
    "    \n",
    "class Murcielago(Mamifero,Ave):\n",
    "      pass\n",
    "      \n",
    "murcielago=Murcielago()\n",
    "\n",
    "print(murcielago.comer())\n",
    "print(murcielago.amamantar())\n",
    "print(murcielago.volar())\n",
    "\n",
    "print(Murcielago.mro())\n"
   ]
  },
  {
   "cell_type": "markdown",
   "metadata": {},
   "source": [
    "# Ejercicio 3\n",
    "\n",
    "<img src=\"images\\ejercicio3.png\">"
   ]
  },
  {
   "cell_type": "code",
   "execution_count": 9,
   "metadata": {},
   "outputs": [
    {
     "name": "stdout",
     "output_type": "stream",
     "text": [
      "Gokú-Vegeta Fuerza: 190 Velocidad: 95\n"
     ]
    }
   ],
   "source": [
    "class Personaje():\n",
    "    def __init__(self, nombre, fuerza, velocidad):\n",
    "       self.nombre=nombre\n",
    "       self.fuerza=fuerza\n",
    "       self.velocidad=velocidad\n",
    "    \n",
    "    #método especial que permite devolver una cadena de caracteras con al pasar un objeto \n",
    "    def __repr__(self):\n",
    "        return f\"{self.nombre} Fuerza: {self.fuerza} Velocidad: {self.velocidad}\"   \n",
    "    \n",
    "    #método especial que permite sumar dos instancias de clase\n",
    "    def __add__(self, otro):\n",
    "        nuevo_nombre = self.nombre + \"-\" + otro.nombre\n",
    "        nueva_fuerza = self.fuerza + otro.fuerza\n",
    "        nueva_velocidad = self.velocidad + otro.velocidad\n",
    "        return Personaje(nuevo_nombre,nueva_fuerza,nueva_velocidad)\n",
    "\n",
    "\n",
    "goku=Personaje(\"Gokú\",100,50)   \n",
    "vegeta=Personaje(\"Vegeta\",90,45)\n",
    "\n",
    "gogeta = goku + vegeta\n",
    "print(gogeta)\n"
   ]
  }
 ],
 "metadata": {
  "kernelspec": {
   "display_name": "Python 3",
   "language": "python",
   "name": "python3"
  },
  "language_info": {
   "codemirror_mode": {
    "name": "ipython",
    "version": 3
   },
   "file_extension": ".py",
   "mimetype": "text/x-python",
   "name": "python",
   "nbconvert_exporter": "python",
   "pygments_lexer": "ipython3",
   "version": "undefined.undefined.undefined"
  }
 },
 "nbformat": 4,
 "nbformat_minor": 2
}
