{
 "cells": [
  {
   "cell_type": "markdown",
   "metadata": {},
   "source": [
    "# Ejercicio 1\n",
    "\n",
    "<img src=\"images\\ejercicio1.png\">"
   ]
  },
  {
   "cell_type": "code",
   "execution_count": 10,
   "metadata": {},
   "outputs": [
    {
     "name": "stdout",
     "output_type": "stream",
     "text": [
      "el estudiante Pedro está estudiando\n"
     ]
    }
   ],
   "source": [
    "#Ejercicio 1\n",
    "#Se crea la clase Estudiante\n",
    "class Estudiante:\n",
    "    #Se llama al metod constructor y se le pasa nombre, edad y grado\n",
    "    def __init__(self,nombre,edad,grado):\n",
    "        self.Nombre=nombre\n",
    "        self.Edad=edad\n",
    "        self.Grado=grado\n",
    "\n",
    "    #Se crea un metodo llamado estudiar\n",
    "    def estudiar(self):\n",
    "        return f'El estudiante {self.Nombre} está estudiando'  \n",
    "    \n",
    "#Se pasan los atributos del objeto por teclado\n",
    "nombre = input(\"Dígame su nombre:\")\n",
    "edad = input(\"Dígame su edad:\")\n",
    "grado = input(\"Dígame su grado:\")\n",
    "\n",
    "#Se instancia el objeto\n",
    "estudiante1 = Estudiante(nombre,edad,grado)\n",
    "\n",
    "#Se pide el metodo por teclado\n",
    "variable = input(\"Introduzca un métodp:\").lower()\n",
    "\n",
    "#Se imprime la respuesta del metodo estudiar\n",
    "if variable == \"estudiar\":\n",
    "    print(estudiante1.estudiar())\n",
    "else:\n",
    "    print(\"Introduzca un método adecuado\")   \n",
    "     "
   ]
  },
  {
   "cell_type": "markdown",
   "metadata": {},
   "source": [
    "# Ejercicio 2\n",
    "\n",
    "<img src=\"images\\ejercicio2.png\">\n",
    "<img src=\"images\\ejercicio2a.png\">"
   ]
  },
  {
   "cell_type": "code",
   "execution_count": 5,
   "metadata": {},
   "outputs": [
    {
     "ename": "TypeError",
     "evalue": "Persona.__init__() takes 3 positional arguments but 4 were given",
     "output_type": "error",
     "traceback": [
      "\u001b[1;31m---------------------------------------------------------------------------\u001b[0m",
      "\u001b[1;31mTypeError\u001b[0m                                 Traceback (most recent call last)",
      "Cell \u001b[1;32mIn[5], line 11\u001b[0m\n\u001b[0;32m      8\u001b[0m     \u001b[38;5;28;01mdef\u001b[39;00m \u001b[38;5;21mpresentarse\u001b[39m(\u001b[38;5;28mself\u001b[39m):\n\u001b[0;32m      9\u001b[0m         \u001b[38;5;28;01mreturn\u001b[39;00m \u001b[38;5;124mf\u001b[39m\u001b[38;5;124m\"\u001b[39m\u001b[38;5;124mMi nombre es: \u001b[39m\u001b[38;5;132;01m{\u001b[39;00m\u001b[38;5;28mself\u001b[39m\u001b[38;5;241m.\u001b[39mnombre\u001b[38;5;132;01m}\u001b[39;00m\u001b[38;5;124m\"\u001b[39m \u001b[38;5;66;03m#Mi edad es:{self.edad}\"    \u001b[39;00m\n\u001b[1;32m---> 11\u001b[0m \u001b[38;5;28;43;01mclass\u001b[39;49;00m\u001b[43m \u001b[49m\u001b[38;5;21;43;01mEstudiante\u001b[39;49;00m\u001b[43m(\u001b[49m\u001b[43mPersona\u001b[49m\u001b[43m)\u001b[49m\u001b[43m:\u001b[49m\n\u001b[0;32m     12\u001b[0m \u001b[43m    \u001b[49m\u001b[38;5;28;43;01mdef\u001b[39;49;00m\u001b[43m \u001b[49m\u001b[38;5;21;43m__init__\u001b[39;49m\u001b[43m(\u001b[49m\u001b[38;5;28;43mself\u001b[39;49m\u001b[43m,\u001b[49m\u001b[43mnombre\u001b[49m\u001b[43m,\u001b[49m\u001b[43medad\u001b[49m\u001b[43m,\u001b[49m\u001b[43mgrado\u001b[49m\u001b[43m)\u001b[49m\u001b[43m:\u001b[49m\n\u001b[0;32m     13\u001b[0m \u001b[43m        \u001b[49m\u001b[38;5;28;43msuper\u001b[39;49m\u001b[43m(\u001b[49m\u001b[43m)\u001b[49m\u001b[38;5;241;43m.\u001b[39;49m\u001b[38;5;21;43m__init__\u001b[39;49m\u001b[43m(\u001b[49m\u001b[38;5;28;43mself\u001b[39;49m\u001b[43m,\u001b[49m\u001b[43m \u001b[49m\u001b[43mnombre\u001b[49m\u001b[43m,\u001b[49m\u001b[43m \u001b[49m\u001b[43medad\u001b[49m\u001b[43m)\u001b[49m\n",
      "Cell \u001b[1;32mIn[5], line 19\u001b[0m, in \u001b[0;36mEstudiante\u001b[1;34m()\u001b[0m\n\u001b[0;32m     16\u001b[0m \u001b[38;5;28;01mdef\u001b[39;00m \u001b[38;5;21mgrado\u001b[39m(\u001b[38;5;28mself\u001b[39m):\n\u001b[0;32m     17\u001b[0m     \u001b[38;5;28;01mreturn\u001b[39;00m \u001b[38;5;124mf\u001b[39m\u001b[38;5;124m\"\u001b[39m\u001b[38;5;124mMi grado es: \u001b[39m\u001b[38;5;132;01m{\u001b[39;00m\u001b[38;5;28mself\u001b[39m\u001b[38;5;241m.\u001b[39mgrado\u001b[38;5;132;01m}\u001b[39;00m\u001b[38;5;124m\"\u001b[39m   \n\u001b[1;32m---> 19\u001b[0m estudiante1\u001b[38;5;241m=\u001b[39m\u001b[43mEstudiante\u001b[49m\u001b[43m(\u001b[49m\u001b[38;5;124;43m\"\u001b[39;49m\u001b[38;5;124;43mFausto\u001b[39;49m\u001b[38;5;124;43m\"\u001b[39;49m\u001b[43m,\u001b[49m\u001b[38;5;241;43m14\u001b[39;49m\u001b[43m,\u001b[49m\u001b[38;5;124;43m\"\u001b[39;49m\u001b[38;5;124;43m10mo\u001b[39;49m\u001b[38;5;124;43m\"\u001b[39;49m\u001b[43m)\u001b[49m \n\u001b[0;32m     20\u001b[0m estudiante1\u001b[38;5;241m.\u001b[39mpresentarse()\n",
      "Cell \u001b[1;32mIn[1], line 13\u001b[0m, in \u001b[0;36mEstudiante.__init__\u001b[1;34m(self, nombre, edad, grado)\u001b[0m\n\u001b[0;32m     12\u001b[0m \u001b[38;5;28;01mdef\u001b[39;00m \u001b[38;5;21m__init__\u001b[39m(\u001b[38;5;28mself\u001b[39m,nombre, edad, grado):\n\u001b[1;32m---> 13\u001b[0m     \u001b[38;5;28;43msuper\u001b[39;49m\u001b[43m(\u001b[49m\u001b[43m)\u001b[49m\u001b[38;5;241;43m.\u001b[39;49m\u001b[38;5;21;43m__init__\u001b[39;49m\u001b[43m(\u001b[49m\u001b[38;5;28;43mself\u001b[39;49m\u001b[43m,\u001b[49m\u001b[43m \u001b[49m\u001b[43mnombre\u001b[49m\u001b[43m,\u001b[49m\u001b[43m \u001b[49m\u001b[43medad\u001b[49m\u001b[43m)\u001b[49m\n\u001b[0;32m     14\u001b[0m     \u001b[38;5;28mself\u001b[39m\u001b[38;5;241m.\u001b[39mgrado\u001b[38;5;241m=\u001b[39mgrado\n",
      "\u001b[1;31mTypeError\u001b[0m: Persona.__init__() takes 3 positional arguments but 4 were given"
     ]
    }
   ],
   "source": [
    "#Ejercicio 2\n",
    "\n",
    "class Persona():\n",
    "    def __init__(self, nombre, edad):\n",
    "        self.nombre=nombre\n",
    "        self.edad=edad\n",
    "\n",
    "    def presentarse(self):\n",
    "        return f\"Mi nombre es: {self.nombre}\" #Mi edad es:{self.edad}\"    \n",
    "\n",
    "class Estudiante(Persona):\n",
    "    def __init__(self,nombre,edad,grado):\n",
    "        super().__init__(self, nombre, edad)\n",
    "        self.grado=grado\n",
    "\n",
    "    def grado(self):\n",
    "        return f\"Mi grado es: {self.grado}\"   \n",
    "\n",
    "    estudiante1=Estudiante(\"Fausto\",14,\"10mo\") \n",
    "    estudiante1.presentarse() \n",
    "        \n",
    "                \n"
   ]
  },
  {
   "cell_type": "code",
   "execution_count": 6,
   "metadata": {},
   "outputs": [
    {
     "name": "stdout",
     "output_type": "stream",
     "text": [
      "Habla desde A\n",
      "[<class '__main__.E'>, <class '__main__.D'>, <class '__main__.C'>, <class '__main__.A'>, <class '__main__.B'>, <class 'object'>]\n"
     ]
    }
   ],
   "source": [
    "#Ejemplo MRO 2\n",
    "class A():\n",
    "    def hablar(self):\n",
    "        return \"Habla desde A\"\n",
    "    \n",
    "class B():\n",
    "    def hablar(self):\n",
    "        return \"Habla desde B\"   \n",
    "\n",
    "class C(A,B):\n",
    "    pass\n",
    "    # def hablar(self):\n",
    "    #     return \"Habla desde C\"     \n",
    "    \n",
    "class D(B):\n",
    "    pass\n",
    "    # def hablar(self):\n",
    "    #     return \"Habla desde D\"\n",
    "\n",
    "class E(D,C):\n",
    "    pass\n",
    "    # def hablar(self):\n",
    "    #     return \"Habla desde E\"    \n",
    "\n",
    "objeto = E()\n",
    "print(objeto.hablar())  \n",
    "#>'Habla desde A'\n",
    "\n",
    "print(E.mro())  \n",
    "#>[<class '__main__.E'>, <class '__main__.D'>, <class '__main__.C'>, <class '__main__.A'>, <class '__main__.B'>, <class 'object'>]"
   ]
  },
  {
   "cell_type": "markdown",
   "metadata": {},
   "source": [
    "# Ejercicio 3\n",
    "\n",
    "<img src=\"images\\ejercicio3.png\">"
   ]
  },
  {
   "cell_type": "code",
   "execution_count": null,
   "metadata": {},
   "outputs": [],
   "source": []
  },
  {
   "cell_type": "markdown",
   "metadata": {},
   "source": [
    "# Ejercicio 4\n",
    "\n",
    "<img src=\"images\\ejercicio4.png\">"
   ]
  }
 ],
 "metadata": {
  "kernelspec": {
   "display_name": "Python 3",
   "language": "python",
   "name": "python3"
  },
  "language_info": {
   "codemirror_mode": {
    "name": "ipython",
    "version": 3
   },
   "file_extension": ".py",
   "mimetype": "text/x-python",
   "name": "python",
   "nbconvert_exporter": "python",
   "pygments_lexer": "ipython3",
   "version": "3.11.5"
  }
 },
 "nbformat": 4,
 "nbformat_minor": 2
}
